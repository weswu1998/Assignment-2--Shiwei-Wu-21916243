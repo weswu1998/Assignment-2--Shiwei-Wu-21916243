{
  "nbformat": 4,
  "nbformat_minor": 0,
  "metadata": {
    "colab": {
      "provenance": [],
      "authorship_tag": "ABX9TyNMxXRWFijle1meFr0VjvsR",
      "include_colab_link": true
    },
    "kernelspec": {
      "name": "python3",
      "display_name": "Python 3"
    },
    "language_info": {
      "name": "python"
    }
  },
  "cells": [
    {
      "cell_type": "markdown",
      "metadata": {
        "id": "view-in-github",
        "colab_type": "text"
      },
      "source": [
        "<a href=\"https://colab.research.google.com/github/weswu1998/Assignment-2--Shiwei-Wu-21916243/blob/main/development_report.ipynb\" target=\"_parent\"><img src=\"https://colab.research.google.com/assets/colab-badge.svg\" alt=\"Open In Colab\"/></a>"
      ]
    },
    {
      "cell_type": "markdown",
      "source": [
        "Environment Setup"
      ],
      "metadata": {
        "id": "7THM7Bg7t2el"
      }
    },
    {
      "cell_type": "code",
      "source": [
        "# Import necessary libraries\n",
        "import sqlite3\n",
        "import pandas as pd\n",
        "import numpy as np\n",
        "import matplotlib.pyplot as plt\n",
        "\n",
        "# Setting up Matplotlib for inline plotting\n",
        "%matplotlib inline"
      ],
      "metadata": {
        "id": "8Vwpc_1-t6IL"
      },
      "execution_count": null,
      "outputs": []
    },
    {
      "cell_type": "markdown",
      "source": [
        "Testing\n",
        "Ensure all libraries are installed and imported correctly.\n",
        "Test if Matplotlib plotting works properly."
      ],
      "metadata": {
        "id": "zfo-ia45uBMx"
      }
    },
    {
      "cell_type": "code",
      "source": [
        "# Test Matplotlib plotting functionality\n",
        "plt.plot([1, 2, 3], [1, 4, 9])\n",
        "plt.title('Test Plot')\n",
        "plt.show()"
      ],
      "metadata": {
        "id": "2_rFiMzRuDrH"
      },
      "execution_count": null,
      "outputs": []
    },
    {
      "cell_type": "markdown",
      "source": [
        "Accessing the Database\n",
        "Pseudocode\n",
        "Connect to the SQLite database.\n",
        "Check the database schema.\n",
        "Retrieve table structure."
      ],
      "metadata": {
        "id": "bYYTyyEBuI-_"
      }
    },
    {
      "cell_type": "code",
      "source": [
        "# Connect to the SQLite database\n",
        "conn = sqlite3.connect('path_to_your_database.db')\n",
        "cursor = conn.cursor()\n",
        "\n",
        "# Examine the schema of the database\n",
        "cursor.execute(\"SELECT name FROM sqlite_master WHERE type='table';\")\n",
        "tables = cursor.fetchall()\n",
        "print(\"Tables in the database:\", tables)\n",
        "\n",
        "# Example to describe a table structure\n",
        "table_name = 'your_table_name'\n",
        "cursor.execute(f\"PRAGMA table_info({table_name});\")\n",
        "schema = cursor.fetchall()\n",
        "print(f\"Schema of {table_name}:\", schema)"
      ],
      "metadata": {
        "id": "dJXVcAsWuJnF"
      },
      "execution_count": null,
      "outputs": []
    },
    {
      "cell_type": "markdown",
      "source": [
        "Testing\n",
        "Test if the connection to the database is successful.\n",
        "Check if the expected tables exist in the database.\n",
        "Verify if the table structure is displayed correctly."
      ],
      "metadata": {
        "id": "mPcvGIcduMY8"
      }
    },
    {
      "cell_type": "code",
      "source": [
        "# Test connection and table structure\n",
        "assert len(tables) > 0, \"No tables found in the database\"\n",
        "assert len(schema) > 0, f\"Schema for {table_name} not displayed correctly\""
      ],
      "metadata": {
        "id": "nrB9OMEVuPbb"
      },
      "execution_count": null,
      "outputs": []
    },
    {
      "cell_type": "markdown",
      "source": [
        "Data Extraction and Manipulation\n",
        "Pseudocode\n",
        "Extract data using SQL query.\n",
        "Perform data manipulation with Pandas (filtering, grouping, aggregation).\n",
        "Clean and preprocess data (handle missing values)."
      ],
      "metadata": {
        "id": "B7rWxcWBuSdc"
      }
    },
    {
      "cell_type": "code",
      "source": [
        "# Extract data using SQL query\n",
        "query = \"SELECT * FROM your_table_name\"\n",
        "data = pd.read_sql_query(query, conn)\n",
        "\n",
        "# Perform data manipulation with Pandas\n",
        "# Example: filtering, grouping, and aggregation\n",
        "filtered_data = data[data['column_name'] > some_value]\n",
        "grouped_data = filtered_data.groupby('another_column').sum()\n",
        "\n",
        "# Clean and preprocess data\n",
        "# Example: handle missing values\n",
        "cleaned_data = data.dropna()\n",
        "\n",
        "# Closing the connection\n",
        "conn.close()"
      ],
      "metadata": {
        "id": "BKvOGyksuUs9"
      },
      "execution_count": null,
      "outputs": []
    },
    {
      "cell_type": "markdown",
      "source": [
        "Testing\n",
        "Verify if the SQL query results are correct.\n",
        "Check if Pandas data manipulation is as expected.\n",
        "Ensure data cleaning steps effectively handle missing values."
      ],
      "metadata": {
        "id": "TEdLnWC3uXm3"
      }
    },
    {
      "cell_type": "code",
      "source": [
        "# Test SQL query results\n",
        "assert not data.empty, \"Query result is empty\"\n",
        "# Test data manipulation\n",
        "assert not grouped_data.empty, \"Grouped data result is empty\"\n",
        "# Test data cleaning\n",
        "assert not cleaned_data.isnull().values.any(), \"Data cleaning failed, missing values present\""
      ],
      "metadata": {
        "id": "KkXQy7XzuaxP"
      },
      "execution_count": null,
      "outputs": []
    },
    {
      "cell_type": "markdown",
      "source": [
        "Analysis and Visualization\n",
        "Pseudocode\n",
        "Compute and visualize total energy consumption for each state.\n",
        "Compute and visualize total energy consumption by fuel type."
      ],
      "metadata": {
        "id": "xgnb6PFgufKP"
      }
    },
    {
      "cell_type": "code",
      "source": [
        "# Compute total energy consumption for each state\n",
        "total_consumption_by_state = data.groupby('state')['energy_consumption'].sum()\n",
        "\n",
        "# Visualize total energy consumption for each state\n",
        "total_consumption_by_state.plot(kind='bar')\n",
        "plt.title('Total Energy Consumption by State')\n",
        "plt.xlabel('State')\n",
        "plt.ylabel('Total Energy Consumption (PJ)')\n",
        "plt.show()"
      ],
      "metadata": {
        "id": "Y0o4w39buhqq"
      },
      "execution_count": null,
      "outputs": []
    },
    {
      "cell_type": "code",
      "source": [
        "# Compute total energy consumption by fuel type\n",
        "total_consumption_by_fuel = data.groupby('fuel_type')['energy_consumption'].sum()\n",
        "\n",
        "# Visualize total energy consumption by fuel type\n",
        "total_consumption_by_fuel.plot(kind='bar')\n",
        "plt.title('Total Energy Consumption by Fuel Type')\n",
        "plt.xlabel('Fuel Type')\n",
        "plt.ylabel('Total Energy Consumption (PJ)')\n",
        "plt.show()"
      ],
      "metadata": {
        "id": "hzzK8ERKun8C"
      },
      "execution_count": null,
      "outputs": []
    },
    {
      "cell_type": "markdown",
      "source": [
        "Testing\n",
        "Check if the computed results are correct.\n",
        "Verify if the visualization charts are clear and effective."
      ],
      "metadata": {
        "id": "OG3gVUCPusCV"
      }
    },
    {
      "cell_type": "code",
      "source": [
        "# Test computed results\n",
        "assert not total_consumption_by_state.empty, \"Total energy consumption by state result is empty\"\n",
        "assert not total_consumption_by_fuel.empty, \"Total energy consumption by fuel type result is empty\"\n",
        "# Test visualization\n",
        "plt.figure()\n",
        "total_consumption_by_state.plot(kind='bar')\n",
        "plt.title('Total Energy Consumption by State')\n",
        "plt.xlabel('State')\n",
        "plt.ylabel('Total Energy Consumption (PJ)')\n",
        "plt.show()\n",
        "\n",
        "plt.figure()\n",
        "total_consumption_by_fuel.plot(kind='bar')\n",
        "plt.title('Total Energy Consumption by Fuel Type')\n",
        "plt.xlabel('Fuel Type')\n",
        "plt.ylabel('Total Energy Consumption (PJ)')\n",
        "plt.show()"
      ],
      "metadata": {
        "id": "J8gkFXuzuuoO"
      },
      "execution_count": null,
      "outputs": []
    },
    {
      "cell_type": "markdown",
      "source": [
        "Testing and Validation\n",
        "Conduct unit tests for all key functionalities.\n",
        "Ensure all code modules run correctly and produce expected results.\n",
        "python\n"
      ],
      "metadata": {
        "id": "CK7Qw2B9uvoj"
      }
    },
    {
      "cell_type": "code",
      "source": [
        "# Unit test example\n",
        "def test_total_consumption_by_state(data):\n",
        "    result = data.groupby('state')['energy_consumption'].sum()\n",
        "    assert not result.empty, \"Total energy consumption by state result is empty\"\n",
        "    return result\n",
        "\n",
        "def test_total_consumption_by_fuel(data):\n",
        "    result = data.groupby('fuel_type')['energy_consumption'].sum()\n",
        "    assert not result.empty, \"Total energy consumption by fuel type result is empty\"\n",
        "    return result\n",
        "\n",
        "# Run tests\n",
        "test_total_consumption_by_state(data)\n",
        "test_total_consumption_by_fuel(data)"
      ],
      "metadata": {
        "id": "DPG0C-bluyFl"
      },
      "execution_count": null,
      "outputs": []
    }
  ]
}