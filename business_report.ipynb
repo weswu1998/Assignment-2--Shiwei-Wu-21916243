{
  "nbformat": 4,
  "nbformat_minor": 0,
  "metadata": {
    "colab": {
      "provenance": [],
      "authorship_tag": "ABX9TyOMfYUQ/sLdo3edwrxR/Ncx",
      "include_colab_link": true
    },
    "kernelspec": {
      "name": "python3",
      "display_name": "Python 3"
    },
    "language_info": {
      "name": "python"
    }
  },
  "cells": [
    {
      "cell_type": "markdown",
      "metadata": {
        "id": "view-in-github",
        "colab_type": "text"
      },
      "source": [
        "<a href=\"https://colab.research.google.com/github/weswu1998/Shiwei-Wu/blob/main/business_report.ipynb\" target=\"_parent\"><img src=\"https://colab.research.google.com/assets/colab-badge.svg\" alt=\"Open In Colab\"/></a>"
      ]
    },
    {
      "cell_type": "code",
      "execution_count": 2,
      "metadata": {
        "colab": {
          "base_uri": "https://localhost:8080/"
        },
        "id": "AR1no-PAbIbX",
        "outputId": "1c8c682b-2c1a-46ee-8631-4b113875e85c"
      },
      "outputs": [
        {
          "output_type": "stream",
          "name": "stdout",
          "text": [
            "Tables in the database: []\n",
            "Schema of your_table_name: []\n"
          ]
        }
      ],
      "source": [
        "\n",
        "# Import necessary libraries\n",
        "import sqlite3\n",
        "import pandas as pd\n",
        "import numpy as np\n",
        "import matplotlib.pyplot as plt\n",
        "\n",
        "# Setting up Matplotlib for inline plotting\n",
        "%matplotlib inline\n",
        "\n",
        "\n",
        "# Connect to the SQLite database\n",
        "conn = sqlite3.connect('path_to_your_database.db')\n",
        "cursor = conn.cursor()\n",
        "\n",
        "# Examine the schema of the database\n",
        "cursor.execute(\"SELECT name FROM sqlite_master WHERE type='table';\")\n",
        "tables = cursor.fetchall()\n",
        "print(\"Tables in the database:\", tables)\n",
        "\n",
        "# Example to describe a table structure\n",
        "table_name = 'your_table_name'\n",
        "cursor.execute(f\"PRAGMA table_info({table_name});\")\n",
        "schema = cursor.fetchall()\n",
        "print(f\"Schema of {table_name}:\", schema)\n",
        "\n",
        "# Extract data using SQL query\n",
        "query = \"SELECT * FROM your_table_name\"\n",
        "data = pd.read_sql_query(query, conn)\n",
        "\n",
        "# Perform data manipulation with Pandas\n",
        "# Example: filtering, grouping, and aggregation\n",
        "filtered_data = data[data['column_name'] > some_value]\n",
        "grouped_data = filtered_data.groupby('another_column').sum()\n",
        "\n",
        "# Clean and pre-process the data\n",
        "# Example: handle missing values\n",
        "cleaned_data = data.dropna()\n",
        "\n",
        "# Closing the connection\n",
        "conn.close()\n",
        "\n"
      ]
    },
    {
      "cell_type": "markdown",
      "source": [
        "4. Analysis and Visualization\n",
        "Total energy consumption for each state:"
      ],
      "metadata": {
        "id": "OEnn9SXZoCvg"
      }
    },
    {
      "cell_type": "code",
      "source": [
        "# Compute total energy consumption for each state\n",
        "total_consumption_by_state = data.groupby('state')['energy_consumption'].sum()\n",
        "\n",
        "# Visualize the total energy consumption for each state\n",
        "total_consumption_by_state.plot(kind='bar')\n",
        "plt.title('Total Energy Consumption by State')\n",
        "plt.xlabel('State')\n",
        "plt.ylabel('Total Energy Consumption (PJ)')\n",
        "plt.show()"
      ],
      "metadata": {
        "id": "btT1WziyoG2g"
      },
      "execution_count": null,
      "outputs": []
    },
    {
      "cell_type": "markdown",
      "source": [
        "Total energy consumption by fuel type:"
      ],
      "metadata": {
        "id": "J-XJ7HOhoU-s"
      }
    },
    {
      "cell_type": "code",
      "source": [
        "# Compute total energy consumption by fuel type\n",
        "total_consumption_by_fuel = data.groupby('fuel_type')['energy_consumption'].sum()\n",
        "\n",
        "# Visualize the total energy consumption by fuel type\n",
        "total_consumption_by_fuel.plot(kind='bar')\n",
        "plt.title('Total Energy Consumption by Fuel Type')\n",
        "plt.xlabel('Fuel Type')\n",
        "plt.ylabel('Total Energy Consumption (PJ)')\n",
        "plt.show()"
      ],
      "metadata": {
        "id": "icIPTvOHoYXY"
      },
      "execution_count": null,
      "outputs": []
    },
    {
      "cell_type": "markdown",
      "source": [
        "Total energy consumption by fuel types for each year:"
      ],
      "metadata": {
        "id": "NWAznYCRobz5"
      }
    },
    {
      "cell_type": "code",
      "source": [
        "# Compute total energy consumption by fuel type for each year\n",
        "consumption_by_fuel_year = data.groupby(['year', 'fuel_type'])['energy_consumption'].sum().unstack()\n",
        "\n",
        "# Visualize the total energy consumption by fuel types for each year\n",
        "consumption_by_fuel_year.plot(kind='line')\n",
        "plt.title('Total Energy Consumption by Fuel Type for Each Year')\n",
        "plt.xlabel('Year')\n",
        "plt.ylabel('Total Energy Consumption (PJ)')\n",
        "plt.legend(title='Fuel Type')\n",
        "plt.show()"
      ],
      "metadata": {
        "id": "TeJiYtHrosce"
      },
      "execution_count": null,
      "outputs": []
    },
    {
      "cell_type": "markdown",
      "source": [
        "Total energy consumption for each state for each year:"
      ],
      "metadata": {
        "id": "f6XnKc_wovcr"
      }
    },
    {
      "cell_type": "code",
      "source": [
        "# Compute total energy consumption for each state for each year\n",
        "consumption_by_state_year = data.groupby(['year', 'state'])['energy_consumption'].sum().unstack()\n",
        "\n",
        "# Visualize the total energy consumption for each state for each year\n",
        "consumption_by_state_year.plot(kind='line')\n",
        "plt.title('Total Energy Consumption by State for Each Year')\n",
        "plt.xlabel('Year')\n",
        "plt.ylabel('Total Energy Consumption (PJ)')\n",
        "plt.legend(title='State')\n",
        "plt.show()"
      ],
      "metadata": {
        "id": "h54_PxPSoyHf"
      },
      "execution_count": null,
      "outputs": []
    },
    {
      "cell_type": "markdown",
      "source": [
        "Group B: Choose ONE\n",
        "Example for Task 5: Total energy consumption for each state, broken down by fuel type:"
      ],
      "metadata": {
        "id": "nmucrdb-o2Mb"
      }
    },
    {
      "cell_type": "code",
      "source": [
        "# Compute total energy consumption for each state, broken down by fuel type\n",
        "consumption_by_state_fuel = data.groupby(['state', 'fuel_type'])['energy_consumption'].sum().unstack()\n",
        "\n",
        "# Visualize the total energy consumption for each state, broken down by fuel type\n",
        "consumption_by_state_fuel.plot(kind='bar', stacked=True)\n",
        "plt.title('Total Energy Consumption for Each State by Fuel Type')\n",
        "plt.xlabel('State')\n",
        "plt.ylabel('Total Energy Consumption (PJ)')\n",
        "plt.legend(title='Fuel Type')\n",
        "plt.show()"
      ],
      "metadata": {
        "id": "qWbYlvRBo3mR"
      },
      "execution_count": null,
      "outputs": []
    },
    {
      "cell_type": "markdown",
      "source": [
        "Group C: Choose ONE\n",
        "Example for Task 8: Energy intensity for each state annually:"
      ],
      "metadata": {
        "id": "sJc6ewpFo6cm"
      }
    },
    {
      "cell_type": "code",
      "source": [
        "# Compute energy intensity for each state annually\n",
        "data['energy_intensity'] = data['energy_consumption'] / data['GSP']\n",
        "\n",
        "# Visualize the energy intensity for each state annually\n",
        "intensity_by_state_year = data.groupby(['year', 'state'])['energy_intensity'].mean().unstack()\n",
        "intensity_by_state_year.plot(kind='line')\n",
        "plt.title('Energy Intensity by State Annually')\n",
        "plt.xlabel('Year')\n",
        "plt.ylabel('Energy Intensity (PJ/$ million)')\n",
        "plt.legend(title='State')\n",
        "plt.show()"
      ],
      "metadata": {
        "id": "IYhTRRV6o9PN"
      },
      "execution_count": null,
      "outputs": []
    },
    {
      "cell_type": "markdown",
      "source": [
        "Interpretation and Conclusion\n",
        "\n",
        "### Main Insights\n",
        "- The total energy consumption varies significantly across states, with some states consuming much more energy than others.\n",
        "- Fuel type analysis reveals the dominance of certain fuels in the energy mix of different states.\n",
        "- Yearly trends show changes in energy consumption patterns, possibly reflecting policy changes, economic conditions, or technological advancements.\n",
        "\n",
        "### Limitations\n",
        "- Data quality and completeness: Any missing or inconsistent data could affect the accuracy of the analysis.\n",
        "- External factors: Economic, environmental, and policy factors that are not captured in the dataset might influence the results.\n",
        "\n",
        "### Reflection on Python Notebooks as Reports\n",
        "- Python notebooks provide an interactive and flexible way to combine code, analysis, and narrative.\n",
        "- Visualization capabilities in Python (e.g., Matplotlib) enable clear and effective communication of results.\n",
        "\n",
        "### Reflection on Use of Gen AI\n",
        "- Gen AI can significantly speed up coding tasks and provide valuable suggestions.\n",
        "- It is essential to critically evaluate and understand the AI-generated code to ensure its correctness and relevance."
      ],
      "metadata": {
        "id": "6fNRAew6q0in"
      }
    }
  ]
}